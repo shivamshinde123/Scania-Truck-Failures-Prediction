{
 "cells": [
  {
   "cell_type": "code",
   "execution_count": 1,
   "metadata": {},
   "outputs": [],
   "source": [
    "## Importing basic required libraries\n",
    "\n",
    "import numpy as np\n",
    "import pandas as pd\n",
    "import matplotlib.pyplot as plt\n",
    "import seaborn as sns\n",
    "\n",
    "import warnings\n",
    "warnings.filterwarnings('ignore')"
   ]
  },
  {
   "cell_type": "code",
   "execution_count": 2,
   "metadata": {},
   "outputs": [],
   "source": [
    "## Importing the data from google drive\n",
    "\n",
    "train_url = 'https://drive.google.com/file/d/1UiFmiaLmD4CKbXh9xWqiUCi-5Vq6ce3_/view?usp=sharing'\n",
    "\n",
    "train_download_url = 'https://drive.google.com/uc?id=' + train_url.split('/')[-2]\n",
    "\n",
    "test_url = 'https://drive.google.com/file/d/1Q-YuLzD9M4d7cIcD48LzOJubSY9Poi5A/view?usp=sharing'\n",
    "\n",
    "test_download_url = 'https://drive.google.com/uc?id=' + test_url.split('/')[-2]\n",
    "\n",
    "\n",
    "train = pd.read_csv(train_download_url)\n",
    "test = pd.read_csv(test_download_url)"
   ]
  },
  {
   "cell_type": "code",
   "execution_count": 3,
   "metadata": {},
   "outputs": [
    {
     "name": "stdout",
     "output_type": "stream",
     "text": [
      "Train data:\n",
      "\n",
      "  class  aa_000 ab_000      ac_000 ad_000 ae_000 af_000 ag_000 ag_001 ag_002  \\\n",
      "0   neg   76698     na  2130706438    280      0      0      0      0      0   \n",
      "1   neg   33058     na           0     na      0      0      0      0      0   \n",
      "2   neg   41040     na         228    100      0      0      0      0      0   \n",
      "3   neg      12      0          70     66      0     10      0      0      0   \n",
      "4   neg   60874     na        1368    458      0      0      0      0      0   \n",
      "\n",
      "   ...   ee_002  ee_003  ee_004  ee_005  ee_006  ee_007  ee_008 ee_009 ef_000  \\\n",
      "0  ...  1240520  493384  721044  469792  339156  157956   73224      0      0   \n",
      "1  ...   421400  178064  293306  245416  133654   81140   97576   1500      0   \n",
      "2  ...   277378  159812  423992  409564  320746  158022   95128    514      0   \n",
      "3  ...      240      46      58      44      10       0       0      0      4   \n",
      "4  ...   622012  229790  405298  347188  286954  311560  433954   1218      0   \n",
      "\n",
      "  eg_000  \n",
      "0      0  \n",
      "1      0  \n",
      "2      0  \n",
      "3     32  \n",
      "4      0  \n",
      "\n",
      "[5 rows x 171 columns]\n",
      "\n",
      "Test data\n",
      "\n",
      "  class  aa_000 ab_000 ac_000 ad_000 ae_000 af_000 ag_000 ag_001 ag_002  ...  \\\n",
      "0   neg      60      0     20     12      0      0      0      0      0  ...   \n",
      "1   neg      82      0     68     40      0      0      0      0      0  ...   \n",
      "2   neg   66002      2    212    112      0      0      0      0      0  ...   \n",
      "3   neg   59816     na   1010    936      0      0      0      0      0  ...   \n",
      "4   neg    1814     na    156    140      0      0      0      0      0  ...   \n",
      "\n",
      "   ee_002  ee_003  ee_004  ee_005   ee_006  ee_007  ee_008 ee_009 ef_000  \\\n",
      "0    1098     138     412     654       78      88       0      0      0   \n",
      "1    1068     276    1620     116       86     462       0      0      0   \n",
      "2  495076  380368  440134  269556  1315022  153680     516      0      0   \n",
      "3  540820  243270  483302  485332   431376  210074  281662   3232      0   \n",
      "4    7646    4144   18466   49782     3176     482      76      0      0   \n",
      "\n",
      "  eg_000  \n",
      "0      0  \n",
      "1      0  \n",
      "2      0  \n",
      "3      0  \n",
      "4      0  \n",
      "\n",
      "[5 rows x 171 columns]\n",
      "\n"
     ]
    }
   ],
   "source": [
    "## checking out the train and test data\n",
    "\n",
    "print('Train data:\\n')\n",
    "print(train.head())\n",
    "print()\n",
    "print('Test data\\n')\n",
    "print(test.head())\n",
    "print()"
   ]
  },
  {
   "cell_type": "code",
   "execution_count": null,
   "metadata": {},
   "outputs": [],
   "source": []
  }
 ],
 "metadata": {
  "kernelspec": {
   "display_name": "scania_truck",
   "language": "python",
   "name": "python3"
  },
  "language_info": {
   "codemirror_mode": {
    "name": "ipython",
    "version": 3
   },
   "file_extension": ".py",
   "mimetype": "text/x-python",
   "name": "python",
   "nbconvert_exporter": "python",
   "pygments_lexer": "ipython3",
   "version": "3.10.9"
  },
  "orig_nbformat": 4,
  "vscode": {
   "interpreter": {
    "hash": "1e5dcf25b52cc7f1d3aa21efa94c6afdd1cec9dc3b4c8637850b5d853d244da2"
   }
  }
 },
 "nbformat": 4,
 "nbformat_minor": 2
}
